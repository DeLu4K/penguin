{
 "cells": [
  {
   "cell_type": "code",
   "execution_count": 26,
   "metadata": {},
   "outputs": [
    {
     "name": "stderr",
     "output_type": "stream",
     "text": [
      "  % Total    % Received % Xferd  Average Speed   Time    Time     Time  Current\n",
      "                                 Dload  Upload   Total   Spent    Left  Speed\n",
      "\n",
      "  0     0    0     0    0     0      0      0 --:--:-- --:--:-- --:--:--     0\n",
      "  0     0    0     0    0     0      0      0 --:--:--  0:00:01 --:--:--     0\n",
      "  0     0    0     0    0     0      0      0 --:--:--  0:00:02 --:--:--     0\n",
      "  0     0    0     0    0     0      0      0 --:--:--  0:00:02 --:--:--     0\n",
      "curl: (7) Failed to connect to 127.0.0.1 port 8000 after 2035 ms: Could not connect to server\n",
      "  % Total    % Received % Xferd  Average Speed   Time    Time     Time  Current\n",
      "                                 Dload  Upload   Total   Spent    Left  Speed\n",
      "\n",
      "  0     0    0     0    0     0      0      0 --:--:-- --:--:-- --:--:--     0\n",
      "  0     0    0     0    0     0      0      0 --:--:-- --:--:-- --:--:--     0\n",
      "  0     0    0     0    0     0      0      0 --:--:--  0:00:01 --:--:--     0curl: (6) Could not resolve host: application\n"
     ]
    }
   ],
   "source": [
    "!curl --request POST \"http://127.0.0.1:8000/predict_lr\" \\\n",
    "--header \"Content-Type: application/json\" \\\n",
    "--data-raw \"{\\\n",
    "\\\"bill_length_mm\\\": 39.5,\\\n",
    "\\\"bill_depth_mm\\\": 18.6,\\\n",
    "\\\"flipper_length_mm\\\": 181,\\\n",
    "\\\"body_mass_g\\\": 3750,\\\n",
    "\\\"sex\\\": \\\"male\\\"\\ }\""
   ]
  },
  {
   "cell_type": "code",
   "execution_count": 28,
   "metadata": {},
   "outputs": [
    {
     "name": "stderr",
     "output_type": "stream",
     "text": [
      "curl: (3) URL rejected: Port number was not a decimal number between 0 and 65535\n",
      "  % Total    % Received % Xferd  Average Speed   Time    Time     Time  Current\n",
      "                                 Dload  Upload   Total   Spent    Left  Speed\n",
      "\n",
      "  0     0    0     0    0     0      0      0 --:--:-- --:--:-- --:--:--     0\n",
      "  0     0    0     0    0     0      0      0 --:--:--  0:00:01 --:--:--     0\n",
      "  0     0    0     0    0     0      0      0 --:--:--  0:00:01 --:--:--     0curl: (6) Could not resolve host: application\n"
     ]
    }
   ],
   "source": [
    "!curl --request POST 'http://127.0.0.1:8000/predict_svm' \\\n",
    "--header 'Content-Type: application/json' \\\n",
    "--data-raw \"{\\\n",
    "\\\"bill_length_mm\\\": 39.5,\\\n",
    "\\\"bill_depth_mm\\\": 18.6,\\\n",
    "\\\"flipper_length_mm\\\": 181,\\\n",
    "\\\"body_mass_g\\\": 3750,\\\n",
    "\\\"sex\\\": \\\"male\\\"\\ }\""
   ]
  },
  {
   "cell_type": "code",
   "execution_count": 21,
   "metadata": {},
   "outputs": [
    {
     "name": "stderr",
     "output_type": "stream",
     "text": [
      "curl: (3) URL rejected: Port number was not a decimal number between 0 and 65535\n",
      "  % Total    % Received % Xferd  Average Speed   Time    Time     Time  Current\n",
      "                                 Dload  Upload   Total   Spent    Left  Speed\n",
      "\n",
      "  0     0    0     0    0     0      0      0 --:--:-- --:--:-- --:--:--     0\n",
      "  0     0    0     0    0     0      0      0 --:--:-- --:--:-- --:--:--     0\n",
      "  0     0    0     0    0     0      0      0 --:--:--  0:00:01 --:--:--     0\n",
      "  0     0    0     0    0     0      0      0 --:--:--  0:00:02 --:--:--     0curl: (6) Could not resolve host: application\n"
     ]
    }
   ],
   "source": [
    "!curl --request POST 'http://127.0.0.1:8000/predict_tree' \\\n",
    "--header 'Content-Type: application/json' \\\n",
    "--data-raw \"{\\\n",
    "\\\"bill_length_mm\\\": 39.5,\\\n",
    "\\\"bill_depth_mm\\\": 18.6,\\\n",
    "\\\"flipper_length_mm\\\": 181,\\\n",
    "\\\"body_mass_g\\\": 3750,\\\n",
    "\\\"sex\\\": \\\"male\\\"\\ }\""
   ]
  },
  {
   "cell_type": "code",
   "execution_count": 22,
   "metadata": {},
   "outputs": [
    {
     "name": "stderr",
     "output_type": "stream",
     "text": [
      "curl: (3) URL rejected: Port number was not a decimal number between 0 and 65535\n",
      "  % Total    % Received % Xferd  Average Speed   Time    Time     Time  Current\n",
      "                                 Dload  Upload   Total   Spent    Left  Speed\n",
      "\n",
      "  0     0    0     0    0     0      0      0 --:--:-- --:--:-- --:--:--     0\n",
      "  0     0    0     0    0     0      0      0 --:--:-- --:--:-- --:--:--     0\n",
      "  0     0    0     0    0     0      0      0 --:--:--  0:00:01 --:--:--     0curl: (6) Could not resolve host: application\n"
     ]
    }
   ],
   "source": [
    "!curl --request POST 'http://127.0.0.1:8000/predict_knn' \\\n",
    "--header 'Content-Type: application/json' \\\n",
    "--data-raw \"{\\\n",
    "\\\"bill_length_mm\\\": 39.5,\\\n",
    "\\\"bill_depth_mm\\\": 18.6,\\\n",
    "\\\"flipper_length_mm\\\": 181,\\\n",
    "\\\"body_mass_g\\\": 3750,\\\n",
    "\\\"sex\\\": \\\"male\\\"\\ }\""
   ]
  }
 ],
 "metadata": {
  "kernelspec": {
   "display_name": ".venv",
   "language": "python",
   "name": "python3"
  },
  "language_info": {
   "codemirror_mode": {
    "name": "ipython",
    "version": 3
   },
   "file_extension": ".py",
   "mimetype": "text/x-python",
   "name": "python",
   "nbconvert_exporter": "python",
   "pygments_lexer": "ipython3",
   "version": "3.12.4"
  }
 },
 "nbformat": 4,
 "nbformat_minor": 2
}
